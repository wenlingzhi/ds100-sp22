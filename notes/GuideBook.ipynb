{
 "cells": [
  {
   "cell_type": "code",
   "execution_count": 18,
   "id": "6d571248-8c10-46bc-bfe5-eafea333ebdd",
   "metadata": {},
   "outputs": [],
   "source": [
    "import pandas as pd\n",
    "import numpy as np"
   ]
  },
  {
   "cell_type": "markdown",
   "id": "a02e98a1-2823-4b15-904f-aea6c7bbb488",
   "metadata": {
    "jp-MarkdownHeadingCollapsed": true
   },
   "source": [
    "# 1. 创建"
   ]
  },
  {
   "cell_type": "markdown",
   "id": "29b0f347-ff70-46d1-8eb7-dd3ab3cb85db",
   "metadata": {},
   "source": [
    "## 创建df"
   ]
  },
  {
   "cell_type": "code",
   "execution_count": 21,
   "id": "837db2c6-a760-40b0-8f12-388a909537e6",
   "metadata": {},
   "outputs": [
    {
     "data": {
      "text/html": [
       "<div>\n",
       "<style scoped>\n",
       "    .dataframe tbody tr th:only-of-type {\n",
       "        vertical-align: middle;\n",
       "    }\n",
       "\n",
       "    .dataframe tbody tr th {\n",
       "        vertical-align: top;\n",
       "    }\n",
       "\n",
       "    .dataframe thead th {\n",
       "        text-align: right;\n",
       "    }\n",
       "</style>\n",
       "<table border=\"1\" class=\"dataframe\">\n",
       "  <thead>\n",
       "    <tr style=\"text-align: right;\">\n",
       "      <th></th>\n",
       "      <th>name</th>\n",
       "      <th>age</th>\n",
       "      <th>sex</th>\n",
       "      <th>class</th>\n",
       "    </tr>\n",
       "  </thead>\n",
       "  <tbody>\n",
       "    <tr>\n",
       "      <th>0</th>\n",
       "      <td>Alice</td>\n",
       "      <td>18</td>\n",
       "      <td>female</td>\n",
       "      <td>3</td>\n",
       "    </tr>\n",
       "    <tr>\n",
       "      <th>1</th>\n",
       "      <td>Bob</td>\n",
       "      <td>19</td>\n",
       "      <td>male</td>\n",
       "      <td>2</td>\n",
       "    </tr>\n",
       "    <tr>\n",
       "      <th>2</th>\n",
       "      <td>Caven</td>\n",
       "      <td>20</td>\n",
       "      <td>male</td>\n",
       "      <td>7</td>\n",
       "    </tr>\n",
       "  </tbody>\n",
       "</table>\n",
       "</div>"
      ],
      "text/plain": [
       "    name  age     sex  class\n",
       "0  Alice   18  female      3\n",
       "1    Bob   19    male      2\n",
       "2  Caven   20    male      7"
      ]
     },
     "execution_count": 21,
     "metadata": {},
     "output_type": "execute_result"
    }
   ],
   "source": [
    "frame1 = pd.DataFrame(\n",
    "    {\n",
    "        'name':[\"Alice\",\"Bob\",\"Caven\"],\n",
    "        'age':[18,19,20],\n",
    "        'sex':[\"female\",\"male\",\"male\"],\n",
    "        'class':[3,2,7]\n",
    "    }\n",
    ")\n",
    "frame1"
   ]
  },
  {
   "cell_type": "markdown",
   "id": "d447f73a-2a0c-49c9-b0b7-85bcfa55c5f9",
   "metadata": {},
   "source": [
    "## 创建series"
   ]
  },
  {
   "cell_type": "markdown",
   "id": "f35cb1a1-a56a-43c3-82fc-a8f5610f2e70",
   "metadata": {},
   "source": [
    "在 `pandas` 中，新建一个 `Series` 是很简单的。你可以使用 `pandas.Series` 类来创建一个 `Series` 对象。以下是一些常见的方式来创建一个 `Series`：\n",
    "\n",
    "### 1. 从列表或数组创建\n",
    "\n",
    "你可以直接从一个 Python 列表或 NumPy 数组创建一个 `Series`：\n",
    "\n",
    "```python\n",
    "import pandas as pd\n",
    "\n",
    "# 从列表创建 Series\n",
    "data_list = [10, 20, 30, 40]\n",
    "series_from_list = pd.Series(data_list)\n",
    "\n",
    "print(series_from_list)\n",
    "```\n",
    "\n",
    "```plaintext\n",
    "0    10\n",
    "1    20\n",
    "2    30\n",
    "3    40\n",
    "dtype: int64\n",
    "```\n",
    "\n",
    "### 2. 从字典创建\n",
    "\n",
    "你也可以从一个字典创建一个 `Series`，字典的键将作为索引，值将作为数据：\n",
    "\n",
    "```python\n",
    "data_dict = {'a': 1, 'b': 2, 'c': 3}\n",
    "series_from_dict = pd.Series(data_dict)\n",
    "\n",
    "print(series_from_dict)\n",
    "```\n",
    "\n",
    "```plaintext\n",
    "a    1\n",
    "b    2\n",
    "c    3\n",
    "dtype: int64\n",
    "```\n",
    "\n",
    "### 3. 指定索引\n",
    "\n",
    "创建 `Series` 时，你可以指定自定义的索引：\n",
    "\n",
    "```python\n",
    "data = [100, 200, 300]\n",
    "index = ['x', 'y', 'z']\n",
    "series_with_index = pd.Series(data, index=index)\n",
    "\n",
    "print(series_with_index)\n",
    "```\n",
    "\n",
    "```plaintext\n",
    "x    100\n",
    "y    200\n",
    "z    300\n",
    "dtype: int64\n",
    "```\n",
    "\n",
    "```\n",
    "\n",
    "### 总结\n",
    "\n",
    "创建 `Series` 时，你可以根据数据来源的不同选择合适的方法：\n",
    "\n",
    "- 从列表或数组：适合一维的简单数据。\n",
    "- 从字典：适合将键作为索引的数据。\n",
    "- 指定索引：适合需要自定义索引的情况。"
   ]
  },
  {
   "cell_type": "markdown",
   "id": "65f98706-51e9-4ced-baae-9a4a3cd7dcad",
   "metadata": {
    "jp-MarkdownHeadingCollapsed": true
   },
   "source": [
    "## 添加新的列"
   ]
  },
  {
   "cell_type": "code",
   "execution_count": null,
   "id": "57ef68c2-68da-4ca7-947e-8b085afd9fcc",
   "metadata": {},
   "outputs": [],
   "source": [
    "# 利用str.len()遍历了表格中Name列的数据, 存在name_length这个series中\n",
    "name_length = babynames[\"Name\"].str.len()\n",
    "\n",
    "# 创建新列, 值为name_length\n",
    "babynames[\"name_lengths\"] = name_length"
   ]
  },
  {
   "cell_type": "markdown",
   "id": "bea26dd6-e6d7-4144-8d7a-56e0e0d1b7f7",
   "metadata": {
    "jp-MarkdownHeadingCollapsed": true
   },
   "source": [
    "## 删除列"
   ]
  },
  {
   "cell_type": "markdown",
   "id": "6aa1bea3-f123-44a1-a12e-a068cc8f504e",
   "metadata": {},
   "source": [
    "使用 drop 方法删除列时，设置 axis=1 或 columns 参数。\n",
    "\n",
    "使用 drop 方法删除行时，设置 axis=0 或 index 参数。"
   ]
  },
  {
   "cell_type": "code",
   "execution_count": 23,
   "id": "7d2cf84c-bd7a-45a7-bb87-97591c3624af",
   "metadata": {},
   "outputs": [
    {
     "data": {
      "text/html": [
       "<div>\n",
       "<style scoped>\n",
       "    .dataframe tbody tr th:only-of-type {\n",
       "        vertical-align: middle;\n",
       "    }\n",
       "\n",
       "    .dataframe tbody tr th {\n",
       "        vertical-align: top;\n",
       "    }\n",
       "\n",
       "    .dataframe thead th {\n",
       "        text-align: right;\n",
       "    }\n",
       "</style>\n",
       "<table border=\"1\" class=\"dataframe\">\n",
       "  <thead>\n",
       "    <tr style=\"text-align: right;\">\n",
       "      <th></th>\n",
       "      <th>name</th>\n",
       "      <th>age</th>\n",
       "      <th>sex</th>\n",
       "    </tr>\n",
       "  </thead>\n",
       "  <tbody>\n",
       "    <tr>\n",
       "      <th>0</th>\n",
       "      <td>Alice</td>\n",
       "      <td>18</td>\n",
       "      <td>female</td>\n",
       "    </tr>\n",
       "    <tr>\n",
       "      <th>1</th>\n",
       "      <td>Bob</td>\n",
       "      <td>19</td>\n",
       "      <td>male</td>\n",
       "    </tr>\n",
       "    <tr>\n",
       "      <th>2</th>\n",
       "      <td>Caven</td>\n",
       "      <td>20</td>\n",
       "      <td>male</td>\n",
       "    </tr>\n",
       "  </tbody>\n",
       "</table>\n",
       "</div>"
      ],
      "text/plain": [
       "    name  age     sex\n",
       "0  Alice   18  female\n",
       "1    Bob   19    male\n",
       "2  Caven   20    male"
      ]
     },
     "execution_count": 23,
     "metadata": {},
     "output_type": "execute_result"
    }
   ],
   "source": [
    "df_dropped = frame1.drop(columns = 'class')\n",
    "df_dropped"
   ]
  },
  {
   "cell_type": "markdown",
   "id": "357d4042-3e9f-4570-b75e-3f3dba8cef08",
   "metadata": {},
   "source": [
    "## 删除行"
   ]
  },
  {
   "cell_type": "code",
   "execution_count": 24,
   "id": "c830b099-f1fd-4197-be61-69c1c47a1e68",
   "metadata": {},
   "outputs": [
    {
     "data": {
      "text/html": [
       "<div>\n",
       "<style scoped>\n",
       "    .dataframe tbody tr th:only-of-type {\n",
       "        vertical-align: middle;\n",
       "    }\n",
       "\n",
       "    .dataframe tbody tr th {\n",
       "        vertical-align: top;\n",
       "    }\n",
       "\n",
       "    .dataframe thead th {\n",
       "        text-align: right;\n",
       "    }\n",
       "</style>\n",
       "<table border=\"1\" class=\"dataframe\">\n",
       "  <thead>\n",
       "    <tr style=\"text-align: right;\">\n",
       "      <th></th>\n",
       "      <th>name</th>\n",
       "      <th>age</th>\n",
       "      <th>sex</th>\n",
       "      <th>class</th>\n",
       "    </tr>\n",
       "  </thead>\n",
       "  <tbody>\n",
       "    <tr>\n",
       "      <th>0</th>\n",
       "      <td>Alice</td>\n",
       "      <td>18</td>\n",
       "      <td>female</td>\n",
       "      <td>3</td>\n",
       "    </tr>\n",
       "    <tr>\n",
       "      <th>1</th>\n",
       "      <td>Bob</td>\n",
       "      <td>19</td>\n",
       "      <td>male</td>\n",
       "      <td>2</td>\n",
       "    </tr>\n",
       "  </tbody>\n",
       "</table>\n",
       "</div>"
      ],
      "text/plain": [
       "    name  age     sex  class\n",
       "0  Alice   18  female      3\n",
       "1    Bob   19    male      2"
      ]
     },
     "execution_count": 24,
     "metadata": {},
     "output_type": "execute_result"
    }
   ],
   "source": [
    "df_dropped = frame1.drop(index = 2)\n",
    "df_dropped"
   ]
  },
  {
   "cell_type": "code",
   "execution_count": null,
   "id": "d59adb2a-ca82-49c3-bd17-4de024a12853",
   "metadata": {},
   "outputs": [],
   "source": []
  },
  {
   "cell_type": "markdown",
   "id": "2d6103e9-fdcc-4690-808c-b766f7a80f12",
   "metadata": {
    "jp-MarkdownHeadingCollapsed": true
   },
   "source": [
    "# 2.读取文件"
   ]
  },
  {
   "cell_type": "markdown",
   "id": "7611c1fb-516c-4f0b-8dc1-98feb03a5f6d",
   "metadata": {},
   "source": [
    "## json : read_json(\"addr/data\")"
   ]
  },
  {
   "cell_type": "code",
   "execution_count": null,
   "id": "be4fb98f-0976-4a87-b697-3b09af6ce4b1",
   "metadata": {},
   "outputs": [],
   "source": [
    "valid_zips = pd.read_json(\"data/sf_zipcodes.json\")"
   ]
  },
  {
   "cell_type": "markdown",
   "id": "3b2489d5-4c93-4702-a9fe-6255514ca19a",
   "metadata": {},
   "source": [
    "# 3.查看基本信息"
   ]
  },
  {
   "cell_type": "markdown",
   "id": "8c07285b-2116-4818-9b26-b1dc45319b4b",
   "metadata": {},
   "source": [
    "## shape,查看行属于列数"
   ]
  },
  {
   "cell_type": "code",
   "execution_count": 21,
   "id": "16fc9654-5627-4ab8-8bf9-bdb30f47a63f",
   "metadata": {},
   "outputs": [
    {
     "data": {
      "text/plain": [
       "3"
      ]
     },
     "execution_count": 21,
     "metadata": {},
     "output_type": "execute_result"
    }
   ],
   "source": [
    "frame1.shape\n",
    "frame1.shape[0]"
   ]
  },
  {
   "cell_type": "markdown",
   "id": "952b9603-e6ab-456a-8632-6644c030b3d0",
   "metadata": {},
   "source": [
    "## 查找最大最小值"
   ]
  },
  {
   "cell_type": "markdown",
   "id": "6e86ab82-1fad-4127-8b16-a4ed99397015",
   "metadata": {},
   "source": [
    "使用`max`和`min`函数找出最大最小值的使用场景：\n",
    "\n",
    "1. **数值列的最大值和最小值**：\n",
    "   如果您的数据框中有数值类型的列，例如整数或浮点数，您可以使用`max`和`min`函数来找出这些列的最大值和最小值。\n",
    "\n",
    "   ```python\n",
    "   # 假设 ins 包含一个名为 'value' 的数值型列\n",
    "   max_value = ins['value'].max()\n",
    "   min_value = ins['value'].min()\n",
    "   ```\n",
    "\n",
    "2. **条件最大值和最小值**：\n",
    "   您可以结合条件过滤和`max`/`min`函数来找出满足特定条件的行的最大值或最小值。\n",
    "\n",
    "   ```python\n",
    "   # 找出特定条件下的最大值\n",
    "   max_value_condition = ins[ins['condition'] == True]['value'].max()\n",
    "\n",
    "   # 找出特定条件下的最小值\n",
    "   min_value_condition = ins[ins['condition'] == False]['value'].min()\n",
    "   ```\n",
    "\n",
    "3. **分组后的最大值和最小值**：\n",
    "   使用`groupby`结合`max`/`min`可以对分组数据进行聚合，找出每组的最大值或最小值。\n",
    "\n",
    "   ```python\n",
    "   # 假设我们按 'category' 列分组，并找出每组的最大和最小 'value'\n",
    "   grouped_max = ins.groupby('category')['value'].max()\n",
    "   grouped_min = ins.groupby('category')['value'].min()\n",
    "   ```\n",
    "\n",
    "4. **跨列的最大值和最小值**：\n",
    "   使用`idxmax`和`idxmin`可以找出每行或每列中的最大值和最小值的索引位置。\n",
    "\n",
    "   ```python\n",
    "   # 找出每行中 'value' 列的最大值所在列的索引\n",
    "   idxmax_values = ins['value'].idxmax()\n",
    "\n",
    "   # 找出每列中的最大值所在行的索引\n",
    "   idxmax_across_columns = ins.idxmax(axis=1)\n",
    "   ```\n",
    "\n",
    "5. **时间序列的最大值和最小值**：\n",
    "   对于时间序列数据，除了找出最早的和最晚的时间点外，您还可以使用`resample`进行时间序列的重采样，然后应用`max`/`min`来找出重采样时间段内的最大值和最小值。\n",
    "\n",
    "   ```python\n",
    "   # 重采样为每天的最大值和最小值\n",
    "   daily_max = ins.set_index('timestamp').resample('D')['value'].max()\n",
    "   daily_min = ins.set_index('timestamp').resample('D')['value'].min()\n",
    "   ```\n"
   ]
  },
  {
   "cell_type": "markdown",
   "id": "9582a6fb-535a-4d84-a1c2-3fb6042ca4da",
   "metadata": {},
   "source": [
    "## values,查看numpy二维数组"
   ]
  },
  {
   "cell_type": "code",
   "execution_count": 14,
   "id": "94eb9115-f679-4b0a-9f0e-d768222743b3",
   "metadata": {},
   "outputs": [
    {
     "data": {
      "text/plain": [
       "array([['Alice', 18, 'female', 3],\n",
       "       ['Bob', 19, 'male', 2],\n",
       "       ['Caven', 20, 'male', 7]], dtype=object)"
      ]
     },
     "execution_count": 14,
     "metadata": {},
     "output_type": "execute_result"
    }
   ],
   "source": [
    "frame1.values"
   ]
  },
  {
   "cell_type": "markdown",
   "id": "c5c411bf-3d62-44a3-87d5-f0fac16e93d5",
   "metadata": {},
   "source": [
    "## 查询series中的个数可以用len()"
   ]
  },
  {
   "cell_type": "code",
   "execution_count": 27,
   "id": "1221ab4d-05e9-4591-8bf6-57ca335b6e60",
   "metadata": {},
   "outputs": [],
   "source": [
    "series1 = pd.Series([1,2,3,4,5]) \n",
    "len(series1)"
   ]
  },
  {
   "cell_type": "markdown",
   "id": "2890d8bb-62d5-4f1a-8353-a98ed913a015",
   "metadata": {},
   "source": [
    "## dtypes['column']:查询列的类型"
   ]
  },
  {
   "cell_type": "code",
   "execution_count": 5,
   "id": "082e577c-8677-4dce-8b3d-5179c932d895",
   "metadata": {},
   "outputs": [
    {
     "name": "stdout",
     "output_type": "stream",
     "text": [
      "object\n"
     ]
    }
   ],
   "source": [
    "frame_type = frame1.dtypes['name']\n",
    "print(frame_type)"
   ]
  },
  {
   "cell_type": "markdown",
   "id": "b1d18593-f170-49c2-a46b-6556d1d7cabb",
   "metadata": {},
   "source": [
    "## type(iloc[1,2])查询具体一个值的类型"
   ]
  },
  {
   "cell_type": "code",
   "execution_count": null,
   "id": "cefc023f-7759-4d10-acf5-d34095e9b3d4",
   "metadata": {},
   "outputs": [],
   "source": [
    "ins_date_type = type(ins.loc[0,\"date\"])\n",
    "ins_date_type"
   ]
  },
  {
   "cell_type": "markdown",
   "id": "31e46a96-9796-4476-aa2c-1af0a3eeffa4",
   "metadata": {},
   "source": [
    "# 4.更改"
   ]
  },
  {
   "cell_type": "markdown",
   "id": "1eeb4483-67fe-4cac-a012-5079ccc85831",
   "metadata": {},
   "source": [
    "## 更改列名"
   ]
  },
  {
   "cell_type": "code",
   "execution_count": 19,
   "id": "69d08599-c4c2-4c6f-8a77-71a5b8f5e42b",
   "metadata": {},
   "outputs": [
    {
     "data": {
      "text/html": [
       "<div>\n",
       "<style scoped>\n",
       "    .dataframe tbody tr th:only-of-type {\n",
       "        vertical-align: middle;\n",
       "    }\n",
       "\n",
       "    .dataframe tbody tr th {\n",
       "        vertical-align: top;\n",
       "    }\n",
       "\n",
       "    .dataframe thead th {\n",
       "        text-align: right;\n",
       "    }\n",
       "</style>\n",
       "<table border=\"1\" class=\"dataframe\">\n",
       "  <thead>\n",
       "    <tr style=\"text-align: right;\">\n",
       "      <th></th>\n",
       "      <th>name</th>\n",
       "      <th>age</th>\n",
       "      <th>gender</th>\n",
       "      <th>class</th>\n",
       "    </tr>\n",
       "  </thead>\n",
       "  <tbody>\n",
       "    <tr>\n",
       "      <th>0</th>\n",
       "      <td>Alice</td>\n",
       "      <td>18</td>\n",
       "      <td>female</td>\n",
       "      <td>3</td>\n",
       "    </tr>\n",
       "    <tr>\n",
       "      <th>1</th>\n",
       "      <td>Bob</td>\n",
       "      <td>19</td>\n",
       "      <td>male</td>\n",
       "      <td>2</td>\n",
       "    </tr>\n",
       "    <tr>\n",
       "      <th>2</th>\n",
       "      <td>Caven</td>\n",
       "      <td>20</td>\n",
       "      <td>male</td>\n",
       "      <td>7</td>\n",
       "    </tr>\n",
       "  </tbody>\n",
       "</table>\n",
       "</div>"
      ],
      "text/plain": [
       "    name  age  gender  class\n",
       "0  Alice   18  female      3\n",
       "1    Bob   19    male      2\n",
       "2  Caven   20    male      7"
      ]
     },
     "execution_count": 19,
     "metadata": {},
     "output_type": "execute_result"
    }
   ],
   "source": [
    "frame1 = frame1.rename(columns = {\"sex\":\"gender\"})\n",
    "frame1"
   ]
  },
  {
   "cell_type": "markdown",
   "id": "e4392f72-ab76-4547-ac92-1ceb8fe50229",
   "metadata": {},
   "source": [
    "## 更改所有列名\n",
    "如果你想按顺序更改 DataFrame 中的所有列名，你可以使用 DataFrame 的 `columns` 属性来指定一个新的列名列表。这里有一个简单的例子：\n",
    "\n",
    "```python\n",
    "import pandas as pd\n",
    "\n",
    "# 假设你有一个名为 df 的 DataFrame\n",
    "df = pd.DataFrame({\n",
    "    'old_name1': [1, 2, 3],\n",
    "    'old_name2': [4, 5, 6],\n",
    "    'old_name3': [7, 8, 9]\n",
    "})\n",
    "\n",
    "# 你现在想要将所有列名更改为新的列名\n",
    "new_column_names = ['new_name1', 'new_name2', 'new_name3']\n",
    "\n",
    "# 你可以直接赋值给 df.columns 来更改所有列名\n",
    "df.columns = new_column_names\n",
    "\n",
    "# 查看更改后的 DataFrame\n",
    "print(df)\n",
    "```\n",
    "\n",
    "输出将会是：\n",
    "\n",
    "```\n",
    "   new_name1  new_name2  new_name3\n",
    "0          1          4          7\n",
    "1          2          5          8\n",
    "2          3          6          9\n",
    "```\n",
    "\n",
    "确保新的列名列表的长度与 DataFrame 中的列数相同，否则会引发错误。如果你想要按照某种模式或者顺序生成新的列名，你可以使用 Python 的列表推导式或者 `range` 函数来创建一个新列名列表。例如，如果你想要将所有列名更改为 \"col_1\", \"col_2\", \"col_3\" 等：\n",
    "\n",
    "```python\n",
    "df.columns = ['col_' + str(i) for i in range(1, len(df.columns) + 1)]\n",
    "```\n",
    "\n",
    "这将会生成一个新列名列表，并将其赋值给 `df.columns`。\n"
   ]
  },
  {
   "cell_type": "markdown",
   "id": "1f109393-f79d-4ddd-a3ee-ae27592fb984",
   "metadata": {},
   "source": [
    "## split(\" \").str[0]: 指定分割并提取"
   ]
  },
  {
   "cell_type": "code",
   "execution_count": null,
   "id": "7e96b4df-b47e-471e-ad8c-52f197eae81a",
   "metadata": {},
   "outputs": [],
   "source": [
    "ins[\"bid\"] = ins[\"iid\"].str.split(\"_\").str[0]"
   ]
  },
  {
   "cell_type": "markdown",
   "id": "6b6c9940-fbe9-450f-b079-081533e165d3",
   "metadata": {},
   "source": [
    "## 重新设置index"
   ]
  },
  {
   "cell_type": "code",
   "execution_count": 1,
   "id": "ba093141-fbbb-47c5-846d-1be2c3b08612",
   "metadata": {},
   "outputs": [
    {
     "name": "stdout",
     "output_type": "stream",
     "text": [
      "   id     name  age\n",
      "0   1    Alice   25\n",
      "1   2      Bob   30\n",
      "2   3  Charlie   35\n"
     ]
    }
   ],
   "source": [
    "import pandas as pd\n",
    "\n",
    "data = {\n",
    "    'id': [1, 2, 3],\n",
    "    'name': ['Alice', 'Bob', 'Charlie'],\n",
    "    'age': [25, 30, 35]\n",
    "}\n",
    "df = pd.DataFrame(data)\n",
    "print(df)"
   ]
  },
  {
   "cell_type": "code",
   "execution_count": 2,
   "id": "fcf4390b-20b1-48f7-9033-4e081f1fadae",
   "metadata": {},
   "outputs": [
    {
     "name": "stdout",
     "output_type": "stream",
     "text": [
      "       name  age\n",
      "id              \n",
      "1     Alice   25\n",
      "2       Bob   30\n",
      "3   Charlie   35\n"
     ]
    }
   ],
   "source": [
    "df = df.set_index('id')\n",
    "print(df)\n"
   ]
  },
  {
   "cell_type": "markdown",
   "id": "51c077f3-e78b-47c6-9041-ff8314fcef4e",
   "metadata": {},
   "source": [
    "### 删除制定列/行 df.drop(\"name\",axis = 0/1)"
   ]
  },
  {
   "cell_type": "code",
   "execution_count": null,
   "id": "7c17f0b6-ab5f-4ce2-ad88-1b9033c2010f",
   "metadata": {},
   "outputs": [],
   "source": [
    "df.drop('column_name', axis=1)\n",
    "df.drop('row_name', axis=0)"
   ]
  },
  {
   "cell_type": "markdown",
   "id": "b9ba2c6c-8438-4b95-9f15-0ee7fccc785d",
   "metadata": {},
   "source": [
    "## 删除索引\n",
    "在 Pandas 中，如果你想移除 DataFrame 的索引，可以使用以下几种方法：\n",
    "\n",
    "1. 使用 `reset_index()` 方法：\n",
    "   你可以使用 `reset_index()` 方法将 DataFrame 的索引重置为默认的整数索引。如果你想删除原来的索引列，可以设置 `drop=True`。\n",
    "   ```python\n",
    "   import pandas as pd\n",
    "   my_df = pd.DataFrame({\n",
    "       \"Person\": [\"Alice\", \"Steven\", \"Neesham\", \"Chris\", \"Alice\"],\n",
    "       \"City\": [\"Berlin\", \"Montreal\", \"Toronto\", \"Rome\", \"Munich\"],\n",
    "       \"Mother Tongue\": [\"German\", \"French\", \"English\", \"Italian\", \"German\"],\n",
    "       \"Age\": [37, 20, 38, 23, 35]\n",
    "   })\n",
    "   my_df.index = [\"A\", \"B\", \"C\", \"D\", \"E\"]\n",
    "   df_reset = my_df.reset_index(drop=True)\n",
    "   ```\n",
    "\n",
    "2. 使用 `set_index()` 方法：\n",
    "   如果你想将某个列设置为索引并删除原来的索引，可以使用 `set_index()` 方法。设置 `drop=False` 可以保留原来的索引列作为数据的一部分。\n",
    "   ```python\n",
    "   my_df = my_df.set_index(\"Person\", drop=False)\n",
    "   ```\n",
    "\n",
    "3. 使用 `drop()` 方法：\n",
    "   如果你想删除特定的索引标签，可以使用 `drop()` 方法。\n",
    "   ```python\n",
    "   my_df = my_df.drop(index=[\"A\", \"B\"])\n",
    "   ```\n",
    "\n",
    "4. 使用 `iloc` 函数：\n",
    "   如果你想通过位置来选择数据并忽略索引，可以使用 `iloc` 函数。\n",
    "   ```python\n",
    "   my_df = my_df.iloc[0:3]  # 选择前三个数据\n",
    "   ```\n",
    "\n",
    "5. 使用 `Index.delete()` 方法：\n",
    "   如果你想删除索引中的特定位置，可以使用 `Index.delete()` 方法。\n",
    "   ```python\n",
    "   idx = pd.Index(['Jan', 'Feb', 'Mar', 'Apr', 'May', 'Jun'])\n",
    "   new_idx = idx.delete(0)  # 删除第一个索引\n",
    "   ```\n",
    "\n",
    "请注意，索引是 DataFrame 的一个重要组成部分，用于标识每行数据。在某些情况下，删除索引可能会影响数据的引用和操作。因此，在删除索引之前，请确保这是你想要的操作。\n"
   ]
  },
  {
   "cell_type": "markdown",
   "id": "beb79093-6a4d-4db5-ac26-c3a68e8c8393",
   "metadata": {},
   "source": [
    "# 5. 转换"
   ]
  },
  {
   "cell_type": "markdown",
   "id": "20a0184e-7165-4cbf-94ca-bc168a990011",
   "metadata": {},
   "source": [
    "## 列转换成指定的type:astype()"
   ]
  },
  {
   "cell_type": "code",
   "execution_count": null,
   "id": "53b78f35-4019-45e0-bbe6-b5ba47713baf",
   "metadata": {},
   "outputs": [],
   "source": [
    "valid_zips = valid_zips[\"zip_codes\"].astype(str)"
   ]
  },
  {
   "cell_type": "markdown",
   "id": "25b7197d-36ca-4ce5-958f-b35cda4e2f7a",
   "metadata": {},
   "source": [
    "## 转换成datetime:pd.to_datetime()"
   ]
  },
  {
   "cell_type": "markdown",
   "id": "5994bd90-e888-4824-96a8-8366497c4b01",
   "metadata": {},
   "source": [
    "https://pandas.pydata.org/docs/reference/api/pandas.to_datetime.html#pandas-to-datetime"
   ]
  },
  {
   "cell_type": "code",
   "execution_count": null,
   "id": "7e59e150-5062-4f4a-833d-1e961f324bc7",
   "metadata": {},
   "outputs": [],
   "source": [
    "ins['timestamp'] = pd.to_datetime(\"03-29-2003 12:23:39 AM\", format='%m/%d/%Y %I:%M:%S %p')"
   ]
  },
  {
   "cell_type": "markdown",
   "id": "ef0e5555-2afb-46a5-8ee7-472a0b83db5e",
   "metadata": {},
   "source": [
    "这里的 `format` 参数解释如下：\n",
    "- `%m` 表示月份（01 到 12）\n",
    "- `%d` 表示日期（01 到 31）\n",
    "- `%Y` 表示四位数的年份\n",
    "- `%I` 表示12小时制的小时数（01 到 12）\n",
    "- `%M` 表示分钟（00 到 59）\n",
    "- `%S` 表示秒（00 到 59）\n",
    "- `%p` 表示AM/PM指示器\n",
    "\n",
    "使用这个格式字符串，`pd.to_datetime` 函数将能够正确解析您的日期时间列。如果您的列中包含多种不同的日期时间格式，您可能需要额外的逻辑来处理这些情况。\n"
   ]
  },
  {
   "cell_type": "markdown",
   "id": "3e94d211-b40f-4dc7-a249-7052903366dc",
   "metadata": {},
   "source": [
    "# 6. 筛选"
   ]
  },
  {
   "cell_type": "markdown",
   "id": "15b17b97-5212-496b-a706-65e5d51ab6d1",
   "metadata": {},
   "source": [
    "## .isin 筛选出存在这个列表里的"
   ]
  },
  {
   "cell_type": "code",
   "execution_count": null,
   "id": "2c57493f-11a3-4fc6-ae5d-b9047fd4e537",
   "metadata": {},
   "outputs": [],
   "source": [
    "bus.loc[~bus['postal5'].isin(valid_zips), 'postal5'] = None"
   ]
  },
  {
   "cell_type": "markdown",
   "id": "253d433e-5660-4cda-a766-c413bafd22fc",
   "metadata": {
    "jp-MarkdownHeadingCollapsed": true
   },
   "source": [
    "## 对datetime格式的数据筛选出特定年份/月份/日等"
   ]
  },
  {
   "cell_type": "markdown",
   "id": "95a57be7-7f07-4e9a-9d80-7a213d446654",
   "metadata": {},
   "source": [
    "在Pandas中，`Series.dt` 属性是一个访问器，它提供了对 datetime-like（类似日期时间）数据的丰富操作。当您的 Pandas `Series` 对象包含日期时间数据时，您可以使用 `.dt` 来执行各种与日期时间相关的操作。\n",
    "\n",
    "`pandas.Series.dt.year` 是 `.dt` 访问器的一个属性，它用于提取 `Series` 中每个 datetime 值的年份部分。这将返回一个新的 `Series`，其中包含原始 datetime 对应的年份。\n",
    "\n",
    "以下是使用 `pandas.Series.dt.year` 的一些示例：\n",
    "\n",
    "1. **提取年份**：\n",
    "   如果您有一个包含日期时间的 `Series`，您可以使用 `.dt.year` 来提取年份。\n",
    "\n",
    "   ```python\n",
    "   import pandas as pd\n",
    "\n",
    "   # 创建一个包含日期时间的 Series\n",
    "   dates = pd.Series([\"2021-01-01\", \"2022-06-15\", \"2023-12-31\"])\n",
    "   # 确保 Series 是 datetime 类型\n",
    "   dates = pd.to_datetime(dates)\n",
    "\n",
    "   # 提取年份\n",
    "   years = dates.dt.year\n",
    "   print(years)\n",
    "   ```\n",
    "\n",
    "   输出将是：\n",
    "   ```\n",
    "   0    2021\n",
    "   1    2022\n",
    "   2    2023\n",
    "   dtype: int64\n",
    "   ```\n",
    "\n",
    "2. **基于年份的筛选**：\n",
    "   您可以使用提取的年份来筛选数据。\n",
    "\n",
    "   ```python\n",
    "   # 筛选出2022年的记录\n",
    "   filtered_dates = dates[dates.dt.year == 2022]\n",
    "   print(filtered_dates)\n",
    "   ```\n",
    "\n",
    "3. **与其他日期时间属性结合使用**：\n",
    "   `.dt` 访问器提供了许多其他属性，如 `.month`, `.day`, `.hour`, `.minute` 等，您可以结合使用它们来执行更复杂的日期时间操作。\n",
    "\n",
    "   ```python\n",
    "   # 提取月份和日期\n",
    "   months = dates.dt.month\n",
    "   days = dates.dt.day\n",
    "   ```\n",
    "\n",
    "使用 `.dt` 访问器是处理日期时间数据的一种非常强大和方便的方式，它允许您快速访问和操作日期时间的组成部分。\n"
   ]
  },
  {
   "cell_type": "code",
   "execution_count": null,
   "id": "b57a0b52-3e5f-4837-b323-a50bfc2eda40",
   "metadata": {},
   "outputs": [],
   "source": []
  },
  {
   "cell_type": "markdown",
   "id": "9f9de5cc-b425-4f56-af45-d95f9ad55798",
   "metadata": {},
   "source": [
    "# 7.判断"
   ]
  },
  {
   "cell_type": "markdown",
   "id": "2113145a-c88c-4513-ad5a-ba2b98cf0e6e",
   "metadata": {},
   "source": [
    "## .all(), 判断 pandas 对象中的所有元素是否都满足某个条件"
   ]
  },
  {
   "cell_type": "markdown",
   "id": "1de6d3d0-1ad2-4e25-bcfd-61d4c0a643ea",
   "metadata": {},
   "source": [
    "### 判断一个列是不是都是True"
   ]
  },
  {
   "cell_type": "code",
   "execution_count": null,
   "id": "9ea639d4-8f4d-4ee5-ae09-157966c64de4",
   "metadata": {},
   "outputs": [],
   "source": [
    "s = pd.Series([True, True, True])\n",
    "all_true = s.all()\n",
    "print(all_true)  # 输出: True"
   ]
  },
  {
   "cell_type": "markdown",
   "id": "318fd920-703d-4e3e-a4f2-e8b435dc25e0",
   "metadata": {
    "jp-MarkdownHeadingCollapsed": true
   },
   "source": [
    "# 8. pivot_table"
   ]
  },
  {
   "cell_type": "markdown",
   "id": "44203032-b6c8-4528-afa7-1ac040bfa905",
   "metadata": {},
   "source": [
    "## 基本概念\n",
    "\n",
    "`pivot_table` 函数的作用是创建一个透视表，它类似于 Excel 中的数据透视表。你可以用它来对数据进行汇总、计算和转换，使数据更具可读性。\n",
    "\n",
    "## 基本语法\n",
    "\n",
    "```python\n",
    "pandas.pivot_table(\n",
    "    data, \n",
    "    values=None, \n",
    "    index=None, \n",
    "    columns=None, \n",
    "    aggfunc='mean', \n",
    "    fill_value=None, \n",
    "    dropna=True, \n",
    "    margins=False, \n",
    "    margins_name='All', \n",
    "    sort=True\n",
    ")\n",
    "```\n",
    "\n",
    "## 参数说明\n",
    "\n",
    "- **data**: 要进行透视的 DataFrame。\n",
    "- **values**: 要汇总的列的名称。可以是单个列名或列名列表。如果省略，则会对所有数值列进行汇总。\n",
    "- **index**: 要作为透视表行的列的名称。可以是单个列名或列名列表。\n",
    "- **columns**: 要作为透视表列的列的名称。可以是单个列名或列名列表。\n",
    "- **aggfunc**: 用于汇总数据的函数。默认是 `'mean'`（均值），也可以使用 `'sum'`（求和）、`'count'`（计数）、`'min'`（最小值）、`'max'`（最大值）等，也可以传入自定义函数。\n",
    "- **fill_value**: 用于填充缺失值的值。如果没有填充，缺失值将保留为 NaN。\n",
    "- **dropna**: 是否删除全为 NaN 的行或列。默认是 `True`。\n",
    "- **margins**: 是否添加行和列的小计。默认是 `False`。\n",
    "- **margins_name**: 小计行和列的名称。默认是 `'All'`。\n",
    "- **sort**: 是否对结果进行排序。默认是 `True`。\n"
   ]
  },
  {
   "cell_type": "markdown",
   "id": "8f0ee9a1-b7a9-4e12-be32-d86673f1d127",
   "metadata": {},
   "source": [
    "## 示例"
   ]
  },
  {
   "cell_type": "code",
   "execution_count": 4,
   "id": "3f6b32f5-0cc2-47e8-aa13-fae5861fb770",
   "metadata": {},
   "outputs": [
    {
     "data": {
      "text/html": [
       "<div>\n",
       "<style scoped>\n",
       "    .dataframe tbody tr th:only-of-type {\n",
       "        vertical-align: middle;\n",
       "    }\n",
       "\n",
       "    .dataframe tbody tr th {\n",
       "        vertical-align: top;\n",
       "    }\n",
       "\n",
       "    .dataframe thead th {\n",
       "        text-align: right;\n",
       "    }\n",
       "</style>\n",
       "<table border=\"1\" class=\"dataframe\">\n",
       "  <thead>\n",
       "    <tr style=\"text-align: right;\">\n",
       "      <th></th>\n",
       "      <th>日期</th>\n",
       "      <th>地区</th>\n",
       "      <th>销售额</th>\n",
       "    </tr>\n",
       "  </thead>\n",
       "  <tbody>\n",
       "    <tr>\n",
       "      <th>0</th>\n",
       "      <td>2024-01-01</td>\n",
       "      <td>东区</td>\n",
       "      <td>100</td>\n",
       "    </tr>\n",
       "    <tr>\n",
       "      <th>1</th>\n",
       "      <td>2024-01-01</td>\n",
       "      <td>西区</td>\n",
       "      <td>200</td>\n",
       "    </tr>\n",
       "    <tr>\n",
       "      <th>2</th>\n",
       "      <td>2024-01-02</td>\n",
       "      <td>东区</td>\n",
       "      <td>150</td>\n",
       "    </tr>\n",
       "    <tr>\n",
       "      <th>3</th>\n",
       "      <td>2024-01-02</td>\n",
       "      <td>西区</td>\n",
       "      <td>250</td>\n",
       "    </tr>\n",
       "    <tr>\n",
       "      <th>4</th>\n",
       "      <td>2024-01-03</td>\n",
       "      <td>东区</td>\n",
       "      <td>300</td>\n",
       "    </tr>\n",
       "  </tbody>\n",
       "</table>\n",
       "</div>"
      ],
      "text/plain": [
       "           日期  地区  销售额\n",
       "0  2024-01-01  东区  100\n",
       "1  2024-01-01  西区  200\n",
       "2  2024-01-02  东区  150\n",
       "3  2024-01-02  西区  250\n",
       "4  2024-01-03  东区  300"
      ]
     },
     "execution_count": 4,
     "metadata": {},
     "output_type": "execute_result"
    }
   ],
   "source": [
    "import pandas as pd\n",
    "\n",
    "data = {\n",
    "    '日期': ['2024-01-01', '2024-01-01', '2024-01-02', '2024-01-02', '2024-01-03'],\n",
    "    '地区': ['东区', '西区', '东区', '西区', '东区'],\n",
    "    '销售额': [100, 200, 150, 250, 300]\n",
    "}\n",
    "\n",
    "df = pd.DataFrame(data)\n",
    "df"
   ]
  },
  {
   "cell_type": "markdown",
   "id": "03831810-fc3a-4f30-8bf6-8bf203aea996",
   "metadata": {},
   "source": [
    "使用 pivot_table 来汇总销售额按日期和地区的统计信息："
   ]
  },
  {
   "cell_type": "code",
   "execution_count": 5,
   "id": "7a3343cc-efea-4286-81b7-1a18ab13fb32",
   "metadata": {},
   "outputs": [
    {
     "data": {
      "text/html": [
       "<div>\n",
       "<style scoped>\n",
       "    .dataframe tbody tr th:only-of-type {\n",
       "        vertical-align: middle;\n",
       "    }\n",
       "\n",
       "    .dataframe tbody tr th {\n",
       "        vertical-align: top;\n",
       "    }\n",
       "\n",
       "    .dataframe thead th {\n",
       "        text-align: right;\n",
       "    }\n",
       "</style>\n",
       "<table border=\"1\" class=\"dataframe\">\n",
       "  <thead>\n",
       "    <tr style=\"text-align: right;\">\n",
       "      <th>地区</th>\n",
       "      <th>东区</th>\n",
       "      <th>西区</th>\n",
       "    </tr>\n",
       "    <tr>\n",
       "      <th>日期</th>\n",
       "      <th></th>\n",
       "      <th></th>\n",
       "    </tr>\n",
       "  </thead>\n",
       "  <tbody>\n",
       "    <tr>\n",
       "      <th>2024-01-01</th>\n",
       "      <td>100</td>\n",
       "      <td>200</td>\n",
       "    </tr>\n",
       "    <tr>\n",
       "      <th>2024-01-02</th>\n",
       "      <td>150</td>\n",
       "      <td>250</td>\n",
       "    </tr>\n",
       "    <tr>\n",
       "      <th>2024-01-03</th>\n",
       "      <td>300</td>\n",
       "      <td>0</td>\n",
       "    </tr>\n",
       "  </tbody>\n",
       "</table>\n",
       "</div>"
      ],
      "text/plain": [
       "地区           东区   西区\n",
       "日期                  \n",
       "2024-01-01  100  200\n",
       "2024-01-02  150  250\n",
       "2024-01-03  300    0"
      ]
     },
     "execution_count": 5,
     "metadata": {},
     "output_type": "execute_result"
    }
   ],
   "source": [
    "pivot_table = df.pivot_table(\n",
    "    values = '销售额',\n",
    "    index = '日期',\n",
    "    columns = '地区',\n",
    "    aggfunc = 'sum',\n",
    "    fill_value=0\n",
    ")\n",
    "pivot_table"
   ]
  },
  {
   "cell_type": "code",
   "execution_count": null,
   "id": "3bdc9fce-9407-4c5e-a657-8de022a36ce0",
   "metadata": {},
   "outputs": [],
   "source": []
  },
  {
   "cell_type": "code",
   "execution_count": null,
   "id": "21470e32-2b96-48d4-a352-38dc04d4a483",
   "metadata": {},
   "outputs": [],
   "source": []
  },
  {
   "cell_type": "markdown",
   "id": "19f5f8d2-7358-4e12-aa8b-b1724185fd87",
   "metadata": {},
   "source": [
    "## size和sum"
   ]
  },
  {
   "cell_type": "markdown",
   "id": "f0802c53-1a06-4abd-88dc-5ab390ff11b8",
   "metadata": {},
   "source": [
    "在Pandas中，`size` 和 `sum` 是两种不同的聚合函数，它们在 `pivot_table` 或其他聚合操作中使用时有不同的行为：\n",
    "\n",
    "1. **`size`**：\n",
    "   - `size` 函数返回非NA/null值的数量。\n",
    "   - 它通常用于计数，特别是在需要统计每个组中元素数量的场景中。\n",
    "   - `size` 函数的结果是一个整数，表示每个组中的元素数。\n",
    "   - 使用 `size` 进行聚合时，不会影响数据的类型（例如，不会将布尔值转换为整数）。\n",
    "\n",
    "2. **`sum`**：\n",
    "   - `sum` 函数返回数值的总和。\n",
    "   - 它通常用于数值数据的求和，但也可以用来计算布尔值的“真”数量（因为 `True` 被当作 1，`False` 被当作 0）。\n",
    "   - `sum` 函数的结果是一个数值，表示所有数值的总和。\n",
    "   - 使用 `sum` 进行聚合时，结果的类型取决于输入数据的类型。\n",
    "\n",
    "**区别**：\n",
    "- 当使用 `size` 时，它只计算非空（NA/null）值的数量。这意味着如果一个组中所有值都是NA/null，`size` 的结果将是0。\n",
    "- 当使用 `sum` 时，它会计算所有值的总和，包括布尔值（`True` 为 1，`False` 为 0）。如果一个组中所有值都是NA/null，`sum` 的结果将是NA/null。\n",
    "\n",
    "**使用场景**：\n",
    "- 如果你想统计每个组中的元素数量，使用 `size`。\n",
    "- 如果你想计算数值的总和或布尔值的“真”数量，使用 `sum`。\n",
    "\n",
    "例如，考虑以下数据：\n",
    "\n",
    "```python\n",
    "import pandas as pd\n",
    "\n",
    "df = pd.DataFrame({\n",
    "    'A': [1, 2, None, 4],\n",
    "    'B': [True, False, True, None],\n",
    "    'C': ['x', 'y', None, 'z']\n",
    "})\n",
    "```\n",
    "\n",
    "使用 `size` 和 `sum` 的结果如下：\n",
    "\n",
    "```python\n",
    "size_result = df.apply(pd.Series.nunique)\n",
    "print(size_result)\n",
    "# A    3\n",
    "# B    2\n",
    "# C    2\n",
    "# dtype: int64\n",
    "\n",
    "sum_result = df.apply(sum, axis=0)\n",
    "print(sum_result)\n",
    "# A    7.0\n",
    "# B    1.0\n",
    "# C    NaN\n",
    "```\n",
    "\n",
    "在这个例子中：\n",
    "- `size` 计算了每列非空值的数量。\n",
    "- `sum` 计算了每列的数值总和，对于布尔值 `True` 和 `False` 分别计算为 1 和 0，但对于非数值列（如 'C'），结果为 NaN。\n"
   ]
  },
  {
   "cell_type": "markdown",
   "id": "03d63924-3906-49ca-b365-bdf92ef6824c",
   "metadata": {
    "jp-MarkdownHeadingCollapsed": true
   },
   "source": [
    "# 9.pd.merge()"
   ]
  },
  {
   "cell_type": "markdown",
   "id": "d3e0b740-4520-48b8-86de-c3910540ba83",
   "metadata": {},
   "source": [
    "当然，`pandas` 的 `merge` 方法用于合并两个 DataFrame，类似于 SQL 中的 JOIN 操作。你可以根据一个或多个键来合并数据，从而生成一个新的 DataFrame。以下是 `merge` 方法的基本用法：\n",
    "\n",
    "### 基本语法\n",
    "\n",
    "```python\n",
    "pandas.merge(\n",
    "    left, \n",
    "    right, \n",
    "    how='inner', \n",
    "    on=None, \n",
    "    left_on=None, \n",
    "    right_on=None, \n",
    "    left_index=False, \n",
    "    right_index=False, \n",
    "    sort=True, \n",
    "    suffixes=('_x', '_y'), \n",
    "    indicator=False, \n",
    "    validate=None\n",
    ")\n",
    "```\n",
    "\n",
    "### 参数说明\n",
    "\n",
    "- **left**: 要合并的左侧 DataFrame。\n",
    "- **right**: 要合并的右侧 DataFrame。\n",
    "- **how**: 合并的方式，支持 `'left'`、`'right'`、`'outer'`、`'inner'`。默认是 `'inner'`。\n",
    "  - `'left'`：左外连接,只保留左侧DataFrame (left) 中的所有行,右侧 DataFrame (right) 中没有匹配的行将填充 NaN。\n",
    "  - `'right'`：右外连接,只保留右侧 DataFrame (right) 中的所有行。左侧 DataFrame (left) 中没有匹配的行将填充 NaN。\n",
    "  - `'outer'`：全外连接,保留两个 DataFrame 中的所有行。\n",
    "  - `'inner'`：内连接,只保留两个 DataFrame 中匹配的行.\n",
    "- **on**: 用于连接的列名。如果指定了，`left_on` 和 `right_on` 会被忽略。\n",
    "- **left_on**: 左侧 DataFrame 中用于连接的列名。\n",
    "- **right_on**: 右侧 DataFrame 中用于连接的列名。\n",
    "- **left_index**: 是否使用左侧 DataFrame 的索引作为连接键。默认是 `False`。\n",
    "- **right_index**: 是否使用右侧 DataFrame 的索引作为连接键。默认是 `False`。\n",
    "- **sort**: 是否对结果进行排序。默认是 `True`。\n",
    "- **suffixes**: 连接时的后缀，用于处理重复列名。默认是 `('_x', '_y')`。\n",
    "- **indicator**: 是否添加一列指示合并类型。默认是 `False`。\n",
    "- **validate**: 验证连接的方式，如 `'one_to_one'`、`'one_to_many'`、`'many_to_one'`、`'many_to_many'`。"
   ]
  },
  {
   "cell_type": "code",
   "execution_count": 13,
   "id": "f8504a7b-0f23-480b-a212-5aef03938649",
   "metadata": {},
   "outputs": [],
   "source": [
    "import pandas as pd\n",
    "\n",
    "df1 = pd.DataFrame({\n",
    "    'id': [1, 2, 3],\n",
    "    'name': ['Alice', 'Bob', 'Charlie']\n",
    "})\n",
    "\n",
    "df2 = pd.DataFrame({\n",
    "    'id': [2, 3, 4],\n",
    "    'age': [24, 25, 30]\n",
    "})"
   ]
  },
  {
   "cell_type": "code",
   "execution_count": 17,
   "id": "684ce3d1-7767-4f71-b47f-a5f416913f79",
   "metadata": {},
   "outputs": [
    {
     "data": {
      "text/html": [
       "<div>\n",
       "<style scoped>\n",
       "    .dataframe tbody tr th:only-of-type {\n",
       "        vertical-align: middle;\n",
       "    }\n",
       "\n",
       "    .dataframe tbody tr th {\n",
       "        vertical-align: top;\n",
       "    }\n",
       "\n",
       "    .dataframe thead th {\n",
       "        text-align: right;\n",
       "    }\n",
       "</style>\n",
       "<table border=\"1\" class=\"dataframe\">\n",
       "  <thead>\n",
       "    <tr style=\"text-align: right;\">\n",
       "      <th></th>\n",
       "      <th>id</th>\n",
       "      <th>name</th>\n",
       "      <th>age</th>\n",
       "    </tr>\n",
       "  </thead>\n",
       "  <tbody>\n",
       "    <tr>\n",
       "      <th>0</th>\n",
       "      <td>2</td>\n",
       "      <td>Bob</td>\n",
       "      <td>24</td>\n",
       "    </tr>\n",
       "    <tr>\n",
       "      <th>1</th>\n",
       "      <td>3</td>\n",
       "      <td>Charlie</td>\n",
       "      <td>25</td>\n",
       "    </tr>\n",
       "  </tbody>\n",
       "</table>\n",
       "</div>"
      ],
      "text/plain": [
       "   id     name  age\n",
       "0   2      Bob   24\n",
       "1   3  Charlie   25"
      ]
     },
     "execution_count": 17,
     "metadata": {},
     "output_type": "execute_result"
    }
   ],
   "source": [
    "merged_table = pd.merge(\n",
    "    df1,\n",
    "    df2,\n",
    "    on='id',\n",
    "    how = 'inner'\n",
    ")\n",
    "merged_table"
   ]
  },
  {
   "cell_type": "markdown",
   "id": "c6caec74-db8d-43bc-a08b-fba1a6c894bb",
   "metadata": {
    "jp-MarkdownHeadingCollapsed": true
   },
   "source": [
    "# explode()"
   ]
  },
  {
   "cell_type": "markdown",
   "id": "ebb19a94-c5de-41ff-92c2-7da56f027e05",
   "metadata": {},
   "source": [
    "`explode()` 是 `pandas` 库中的一个方法，用于处理数据中的列表或其他可迭代对象。当你有一个包含列表（或类似可迭代对象）的列时，`explode()` 可以将这些列表“展开”成单独的行，每个列表中的元素成为单独的一行。\n",
    "\n",
    "### 示例\n",
    "\n",
    "假设你有一个 `DataFrame`，其中有一列包含列表：\n",
    "\n",
    "```python\n",
    "import pandas as pd\n",
    "\n",
    "# 创建一个包含列表的DataFrame\n",
    "df = pd.DataFrame({\n",
    "    'Name': ['Alice', 'Bob', 'Charlie'],\n",
    "    'Hobbies': [['Reading', 'Hiking'], ['Cooking'], ['Drawing', 'Cycling', 'Swimming']]\n",
    "})\n",
    "\n",
    "print(df)\n",
    "```\n",
    "\n",
    "输出是：\n",
    "\n",
    "```\n",
    "      Name                  Hobbies\n",
    "0    Alice       [Reading, Hiking]\n",
    "1      Bob                  [Cooking]\n",
    "2  Charlie  [Drawing, Cycling, Swimming]\n",
    "```\n",
    "\n",
    "如果你对 `Hobbies` 列使用 `explode()`，它将把每个列表中的元素展开成单独的行：\n",
    "\n",
    "```python\n",
    "# 使用explode()展开'Hobbies'列\n",
    "df_exploded = df.explode('Hobbies')\n",
    "\n",
    "print(df_exploded)\n",
    "```\n",
    "\n",
    "输出是：\n",
    "\n",
    "```\n",
    "      Name   Hobbies\n",
    "0    Alice   Reading\n",
    "0    Alice    Hiking\n",
    "1      Bob   Cooking\n",
    "2  Charlie   Drawing\n",
    "2  Charlie   Cycling\n",
    "2  Charlie  Swimming\n",
    "```\n",
    "\n",
    "### 使用场景\n",
    "\n",
    "- **数据清洗**：当处理数据时，有时需要将列表型数据展开为多个行，以便进行进一步的分析或处理。\n",
    "- **数据变换**：可以将多重记录（比如一个用户的多个爱好）转换成适合进行统计和分析的格式。\n",
    "\n",
    "`explode()` 是一个非常有用的工具，尤其在处理嵌套数据结构时，可以帮助你将数据转化为更平坦的结构。"
   ]
  },
  {
   "cell_type": "markdown",
   "id": "1bd758b1-723d-4025-a64c-c5fcd2b2a517",
   "metadata": {},
   "source": [
    "# df和series运用sort_values()的区别"
   ]
  },
  {
   "cell_type": "markdown",
   "id": "f1c151d9-a8f9-4eb1-a4fd-e33795f9aac2",
   "metadata": {},
   "source": [
    "`sort_values()` 方法可以用于 `pandas.Series` 和 `pandas.DataFrame` 对象，但它们的使用方式略有不同。让我们详细讨论一下。\n",
    "\n",
    "### `sort_values()` 用于 `pandas.Series`\n",
    "\n",
    "对于 `pandas.Series`，`sort_values()` 方法用于对 `Series` 的值进行排序，并返回一个新的排序后的 `Series`。索引保持不变。\n",
    "\n",
    "**示例:**\n",
    "\n",
    "```python\n",
    "import pandas as pd\n",
    "\n",
    "# 创建一个 Series\n",
    "s = pd.Series([3, 1, 2], index=['a', 'b', 'c'])\n",
    "\n",
    "# 对 Series 进行排序\n",
    "s_sorted = s.sort_values()\n",
    "\n",
    "print(s_sorted)\n",
    "```\n",
    "\n",
    "**输出:**\n",
    "\n",
    "```\n",
    "b    1\n",
    "c    2\n",
    "a    3\n",
    "dtype: int64\n",
    "```\n",
    "\n",
    "在这个示例中，`s.sort_values()` 返回一个新的 `Series`，其中的值已经按照升序排序，索引保持不变。\n",
    "\n",
    "### `sort_values()` 用于 `pandas.DataFrame`\n",
    "\n",
    "对于 `pandas.DataFrame`，`sort_values()` 方法用于对一个或多个列的值进行排序。你可以指定一个或多个列来排序，并且可以设置升序或降序。\n",
    "\n",
    "**示例:**\n",
    "\n",
    "```python\n",
    "import pandas as pd\n",
    "\n",
    "# 创建一个 DataFrame\n",
    "df = pd.DataFrame({\n",
    "    'A': [3, 1, 2],\n",
    "    'B': [4, 2, 3]\n",
    "}, index=['a', 'b', 'c'])\n",
    "\n",
    "# 对 DataFrame 按照列 'A' 进行排序\n",
    "df_sorted = df.sort_values(by='A')\n",
    "\n",
    "print(df_sorted)\n",
    "```\n",
    "\n",
    "**输出:**\n",
    "\n",
    "```\n",
    "   A  B\n",
    "b  1  2\n",
    "c  2  3\n",
    "a  3  4\n",
    "```\n",
    "\n",
    "在这个示例中，`df.sort_values(by='A')` 返回一个新的 `DataFrame`，其中的行按照列 `A` 的值进行排序。\n",
    "\n",
    "### 使用 `sort_values()` 的参数\n",
    "\n",
    "- **`by`**: 指定排序的列（对于 `DataFrame`）或直接应用于值（对于 `Series`）。\n",
    "- **`ascending`**: 布尔值或布尔值列表，指定排序顺序。`True` 为升序，`False` 为降序。\n",
    "- **`inplace`**: 布尔值，是否在原地修改对象，默认为 `False`。如果设置为 `True`，则会对原始对象进行修改，而不是返回一个新的对象。\n",
    "\n",
    "### 总结\n",
    "\n",
    "- 对于 `pandas.Series`，`sort_values()` 可以用来对 `Series` 的值进行排序，返回一个新的 `Series`。\n",
    "- 对于 `pandas.DataFrame`，`sort_values()` 可以用来对指定列的值进行排序，返回一个新的 `DataFrame`。\n",
    "- 两者都可以使用 `ascending` 和 `inplace` 参数来控制排序顺序和是否原地修改。\n",
    "\n",
    "### 注意\n",
    "\n",
    "如果你对 `Series` 进行排序，并且需要保持索引对应的顺序，`sort_values()` 会返回一个新的 `Series`，其中值已经排序，而索引顺序会按照排序后的值的顺序排列。"
   ]
  },
  {
   "cell_type": "markdown",
   "id": "396a5600-1d56-40e0-9025-8b0dd6a40254",
   "metadata": {},
   "source": [
    "# Series.str.extract(pat,flags=0,expand=True)"
   ]
  },
  {
   "cell_type": "markdown",
   "id": "a4d7855b-dbc4-4206-9424-89e1ace62c7c",
   "metadata": {},
   "source": [
    "- pat: 字符串类型，正则表达式模式，用于匹配要提取的内容。\n",
    "- flags: 可选，正则表达式的标志，如 re.IGNORECASE 等。\n",
    "- expand: 布尔值，默认为 True。如果为 True，返回的结果是 DataFrame；如果为 False，返回的结果是 Series。"
   ]
  },
  {
   "cell_type": "markdown",
   "id": "11628814-8833-4a49-ba08-283101b56236",
   "metadata": {},
   "source": [
    "# np.where(condition,true_execution,false_execution)"
   ]
  },
  {
   "cell_type": "markdown",
   "id": "64bcd8b6-765b-4397-99f6-ba258a739335",
   "metadata": {},
   "source": [
    "判断data[\"Neighborhood Code\"].isin(neighborhoods), true时在data['in_expensive_neighborhood']对应行中插入1,false时插入0"
   ]
  },
  {
   "cell_type": "code",
   "execution_count": null,
   "id": "8bd6c5b2-94b5-4aa3-950e-b59cfaaf6ab3",
   "metadata": {},
   "outputs": [],
   "source": [
    "data['in_expensive_neighborhood'] = np.where(data[\"Neighborhood Code\"].isin(neighborhoods),int(1),int(0))"
   ]
  }
 ],
 "metadata": {
  "kernelspec": {
   "display_name": "Python 3 (ipykernel)",
   "language": "python",
   "name": "python3"
  },
  "language_info": {
   "codemirror_mode": {
    "name": "ipython",
    "version": 3
   },
   "file_extension": ".py",
   "mimetype": "text/x-python",
   "name": "python",
   "nbconvert_exporter": "python",
   "pygments_lexer": "ipython3",
   "version": "3.10.10"
  }
 },
 "nbformat": 4,
 "nbformat_minor": 5
}

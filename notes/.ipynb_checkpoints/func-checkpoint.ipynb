{
 "cells": [
  {
   "cell_type": "code",
   "execution_count": 3,
   "id": "6d571248-8c10-46bc-bfe5-eafea333ebdd",
   "metadata": {},
   "outputs": [],
   "source": [
    "import pandas as pd\n",
    "import numpy as np"
   ]
  },
  {
   "cell_type": "markdown",
   "id": "a02e98a1-2823-4b15-904f-aea6c7bbb488",
   "metadata": {},
   "source": [
    "# 1. 创建"
   ]
  },
  {
   "cell_type": "markdown",
   "id": "29b0f347-ff70-46d1-8eb7-dd3ab3cb85db",
   "metadata": {},
   "source": [
    "## 创建列表"
   ]
  },
  {
   "cell_type": "code",
   "execution_count": 4,
   "id": "837db2c6-a760-40b0-8f12-388a909537e6",
   "metadata": {},
   "outputs": [
    {
     "data": {
      "text/html": [
       "<div>\n",
       "<style scoped>\n",
       "    .dataframe tbody tr th:only-of-type {\n",
       "        vertical-align: middle;\n",
       "    }\n",
       "\n",
       "    .dataframe tbody tr th {\n",
       "        vertical-align: top;\n",
       "    }\n",
       "\n",
       "    .dataframe thead th {\n",
       "        text-align: right;\n",
       "    }\n",
       "</style>\n",
       "<table border=\"1\" class=\"dataframe\">\n",
       "  <thead>\n",
       "    <tr style=\"text-align: right;\">\n",
       "      <th></th>\n",
       "      <th>name</th>\n",
       "      <th>age</th>\n",
       "      <th>sex</th>\n",
       "      <th>class</th>\n",
       "    </tr>\n",
       "  </thead>\n",
       "  <tbody>\n",
       "    <tr>\n",
       "      <th>0</th>\n",
       "      <td>Alice</td>\n",
       "      <td>18</td>\n",
       "      <td>female</td>\n",
       "      <td>3</td>\n",
       "    </tr>\n",
       "    <tr>\n",
       "      <th>1</th>\n",
       "      <td>Bob</td>\n",
       "      <td>19</td>\n",
       "      <td>male</td>\n",
       "      <td>2</td>\n",
       "    </tr>\n",
       "    <tr>\n",
       "      <th>2</th>\n",
       "      <td>Caven</td>\n",
       "      <td>20</td>\n",
       "      <td>male</td>\n",
       "      <td>7</td>\n",
       "    </tr>\n",
       "  </tbody>\n",
       "</table>\n",
       "</div>"
      ],
      "text/plain": [
       "    name  age     sex  class\n",
       "0  Alice   18  female      3\n",
       "1    Bob   19    male      2\n",
       "2  Caven   20    male      7"
      ]
     },
     "execution_count": 4,
     "metadata": {},
     "output_type": "execute_result"
    }
   ],
   "source": [
    "frame1 = pd.DataFrame(\n",
    "    {\n",
    "        'name':[\"Alice\",\"Bob\",\"Caven\"],\n",
    "        'age':[18,19,20],\n",
    "        'sex':[\"female\",\"male\",\"male\"],\n",
    "        'class':[3,2,7]\n",
    "    }\n",
    ")\n",
    "frame1"
   ]
  },
  {
   "cell_type": "markdown",
   "id": "65f98706-51e9-4ced-baae-9a4a3cd7dcad",
   "metadata": {},
   "source": [
    "## 添加新的列"
   ]
  },
  {
   "cell_type": "code",
   "execution_count": null,
   "id": "57ef68c2-68da-4ca7-947e-8b085afd9fcc",
   "metadata": {},
   "outputs": [],
   "source": [
    "# 利用str.len()遍历了表格中Name列的数据, 存在name_length这个series中\n",
    "name_length = babynames[\"Name\"].str.len()\n",
    "\n",
    "# 创建新列, 值为name_length\n",
    "babynames[\"name_lengths\"] = name_length"
   ]
  },
  {
   "cell_type": "markdown",
   "id": "bea26dd6-e6d7-4144-8d7a-56e0e0d1b7f7",
   "metadata": {},
   "source": [
    "## 删除列"
   ]
  },
  {
   "cell_type": "code",
   "execution_count": null,
   "id": "7d2cf84c-bd7a-45a7-bb87-97591c3624af",
   "metadata": {},
   "outputs": [],
   "source": []
  },
  {
   "cell_type": "markdown",
   "id": "2d6103e9-fdcc-4690-808c-b766f7a80f12",
   "metadata": {},
   "source": [
    "# 2.读取文件"
   ]
  },
  {
   "cell_type": "markdown",
   "id": "7611c1fb-516c-4f0b-8dc1-98feb03a5f6d",
   "metadata": {},
   "source": [
    "## json : read_json(\"addr/data\")"
   ]
  },
  {
   "cell_type": "code",
   "execution_count": null,
   "id": "be4fb98f-0976-4a87-b697-3b09af6ce4b1",
   "metadata": {},
   "outputs": [],
   "source": [
    "valid_zips = pd.read_json(\"data/sf_zipcodes.json\")"
   ]
  },
  {
   "cell_type": "markdown",
   "id": "3b2489d5-4c93-4702-a9fe-6255514ca19a",
   "metadata": {
    "jp-MarkdownHeadingCollapsed": true
   },
   "source": [
    "# 3.查看基本信息"
   ]
  },
  {
   "cell_type": "markdown",
   "id": "8c07285b-2116-4818-9b26-b1dc45319b4b",
   "metadata": {},
   "source": [
    "## shape,查看行属于列数"
   ]
  },
  {
   "cell_type": "code",
   "execution_count": 21,
   "id": "16fc9654-5627-4ab8-8bf9-bdb30f47a63f",
   "metadata": {},
   "outputs": [
    {
     "data": {
      "text/plain": [
       "3"
      ]
     },
     "execution_count": 21,
     "metadata": {},
     "output_type": "execute_result"
    }
   ],
   "source": [
    "frame1.shape\n",
    "frame1.shape[0]"
   ]
  },
  {
   "cell_type": "markdown",
   "id": "952b9603-e6ab-456a-8632-6644c030b3d0",
   "metadata": {},
   "source": [
    "## 查找最大最小值"
   ]
  },
  {
   "cell_type": "markdown",
   "id": "6e86ab82-1fad-4127-8b16-a4ed99397015",
   "metadata": {},
   "source": [
    "使用`max`和`min`函数找出最大最小值的使用场景：\n",
    "\n",
    "1. **数值列的最大值和最小值**：\n",
    "   如果您的数据框中有数值类型的列，例如整数或浮点数，您可以使用`max`和`min`函数来找出这些列的最大值和最小值。\n",
    "\n",
    "   ```python\n",
    "   # 假设 ins 包含一个名为 'value' 的数值型列\n",
    "   max_value = ins['value'].max()\n",
    "   min_value = ins['value'].min()\n",
    "   ```\n",
    "\n",
    "2. **条件最大值和最小值**：\n",
    "   您可以结合条件过滤和`max`/`min`函数来找出满足特定条件的行的最大值或最小值。\n",
    "\n",
    "   ```python\n",
    "   # 找出特定条件下的最大值\n",
    "   max_value_condition = ins[ins['condition'] == True]['value'].max()\n",
    "\n",
    "   # 找出特定条件下的最小值\n",
    "   min_value_condition = ins[ins['condition'] == False]['value'].min()\n",
    "   ```\n",
    "\n",
    "3. **分组后的最大值和最小值**：\n",
    "   使用`groupby`结合`max`/`min`可以对分组数据进行聚合，找出每组的最大值或最小值。\n",
    "\n",
    "   ```python\n",
    "   # 假设我们按 'category' 列分组，并找出每组的最大和最小 'value'\n",
    "   grouped_max = ins.groupby('category')['value'].max()\n",
    "   grouped_min = ins.groupby('category')['value'].min()\n",
    "   ```\n",
    "\n",
    "4. **跨列的最大值和最小值**：\n",
    "   使用`idxmax`和`idxmin`可以找出每行或每列中的最大值和最小值的索引位置。\n",
    "\n",
    "   ```python\n",
    "   # 找出每行中 'value' 列的最大值所在列的索引\n",
    "   idxmax_values = ins['value'].idxmax()\n",
    "\n",
    "   # 找出每列中的最大值所在行的索引\n",
    "   idxmax_across_columns = ins.idxmax(axis=1)\n",
    "   ```\n",
    "\n",
    "5. **时间序列的最大值和最小值**：\n",
    "   对于时间序列数据，除了找出最早的和最晚的时间点外，您还可以使用`resample`进行时间序列的重采样，然后应用`max`/`min`来找出重采样时间段内的最大值和最小值。\n",
    "\n",
    "   ```python\n",
    "   # 重采样为每天的最大值和最小值\n",
    "   daily_max = ins.set_index('timestamp').resample('D')['value'].max()\n",
    "   daily_min = ins.set_index('timestamp').resample('D')['value'].min()\n",
    "   ```\n"
   ]
  },
  {
   "cell_type": "markdown",
   "id": "9582a6fb-535a-4d84-a1c2-3fb6042ca4da",
   "metadata": {},
   "source": [
    "## values,查看numpy二维数组"
   ]
  },
  {
   "cell_type": "code",
   "execution_count": 14,
   "id": "94eb9115-f679-4b0a-9f0e-d768222743b3",
   "metadata": {},
   "outputs": [
    {
     "data": {
      "text/plain": [
       "array([['Alice', 18, 'female', 3],\n",
       "       ['Bob', 19, 'male', 2],\n",
       "       ['Caven', 20, 'male', 7]], dtype=object)"
      ]
     },
     "execution_count": 14,
     "metadata": {},
     "output_type": "execute_result"
    }
   ],
   "source": [
    "frame1.values"
   ]
  },
  {
   "cell_type": "markdown",
   "id": "c5c411bf-3d62-44a3-87d5-f0fac16e93d5",
   "metadata": {},
   "source": [
    "## 查询series中的个数可以用len()"
   ]
  },
  {
   "cell_type": "code",
   "execution_count": 27,
   "id": "1221ab4d-05e9-4591-8bf6-57ca335b6e60",
   "metadata": {},
   "outputs": [],
   "source": [
    "series1 = pd.Series([1,2,3,4,5]) \n",
    "len(series1)"
   ]
  },
  {
   "cell_type": "markdown",
   "id": "2890d8bb-62d5-4f1a-8353-a98ed913a015",
   "metadata": {},
   "source": [
    "## dtypes['column']:查询列的类型"
   ]
  },
  {
   "cell_type": "code",
   "execution_count": 5,
   "id": "082e577c-8677-4dce-8b3d-5179c932d895",
   "metadata": {},
   "outputs": [
    {
     "name": "stdout",
     "output_type": "stream",
     "text": [
      "object\n"
     ]
    }
   ],
   "source": [
    "frame_type = frame1.dtypes['name']\n",
    "print(frame_type)"
   ]
  },
  {
   "cell_type": "markdown",
   "id": "b1d18593-f170-49c2-a46b-6556d1d7cabb",
   "metadata": {},
   "source": [
    "## type(iloc[1,2])查询具体一个值的类型"
   ]
  },
  {
   "cell_type": "code",
   "execution_count": null,
   "id": "cefc023f-7759-4d10-acf5-d34095e9b3d4",
   "metadata": {},
   "outputs": [],
   "source": [
    "ins_date_type = type(ins.loc[0,\"date\"])\n",
    "ins_date_type"
   ]
  },
  {
   "cell_type": "markdown",
   "id": "31e46a96-9796-4476-aa2c-1af0a3eeffa4",
   "metadata": {},
   "source": [
    "# 4.更改"
   ]
  },
  {
   "cell_type": "markdown",
   "id": "1eeb4483-67fe-4cac-a012-5079ccc85831",
   "metadata": {},
   "source": [
    "## 更改列名"
   ]
  },
  {
   "cell_type": "code",
   "execution_count": 19,
   "id": "69d08599-c4c2-4c6f-8a77-71a5b8f5e42b",
   "metadata": {},
   "outputs": [
    {
     "data": {
      "text/html": [
       "<div>\n",
       "<style scoped>\n",
       "    .dataframe tbody tr th:only-of-type {\n",
       "        vertical-align: middle;\n",
       "    }\n",
       "\n",
       "    .dataframe tbody tr th {\n",
       "        vertical-align: top;\n",
       "    }\n",
       "\n",
       "    .dataframe thead th {\n",
       "        text-align: right;\n",
       "    }\n",
       "</style>\n",
       "<table border=\"1\" class=\"dataframe\">\n",
       "  <thead>\n",
       "    <tr style=\"text-align: right;\">\n",
       "      <th></th>\n",
       "      <th>name</th>\n",
       "      <th>age</th>\n",
       "      <th>gender</th>\n",
       "      <th>class</th>\n",
       "    </tr>\n",
       "  </thead>\n",
       "  <tbody>\n",
       "    <tr>\n",
       "      <th>0</th>\n",
       "      <td>Alice</td>\n",
       "      <td>18</td>\n",
       "      <td>female</td>\n",
       "      <td>3</td>\n",
       "    </tr>\n",
       "    <tr>\n",
       "      <th>1</th>\n",
       "      <td>Bob</td>\n",
       "      <td>19</td>\n",
       "      <td>male</td>\n",
       "      <td>2</td>\n",
       "    </tr>\n",
       "    <tr>\n",
       "      <th>2</th>\n",
       "      <td>Caven</td>\n",
       "      <td>20</td>\n",
       "      <td>male</td>\n",
       "      <td>7</td>\n",
       "    </tr>\n",
       "  </tbody>\n",
       "</table>\n",
       "</div>"
      ],
      "text/plain": [
       "    name  age  gender  class\n",
       "0  Alice   18  female      3\n",
       "1    Bob   19    male      2\n",
       "2  Caven   20    male      7"
      ]
     },
     "execution_count": 19,
     "metadata": {},
     "output_type": "execute_result"
    }
   ],
   "source": [
    "frame1 = frame1.rename(columns = {\"sex\":\"gender\"})\n",
    "frame1"
   ]
  },
  {
   "cell_type": "markdown",
   "id": "1f109393-f79d-4ddd-a3ee-ae27592fb984",
   "metadata": {},
   "source": [
    "## split(\" \").str[0]: 指定分割并提取"
   ]
  },
  {
   "cell_type": "code",
   "execution_count": null,
   "id": "7e96b4df-b47e-471e-ad8c-52f197eae81a",
   "metadata": {},
   "outputs": [],
   "source": [
    "ins[\"bid\"] = ins[\"iid\"].str.split(\"_\").str[0]"
   ]
  },
  {
   "cell_type": "markdown",
   "id": "beb79093-6a4d-4db5-ac26-c3a68e8c8393",
   "metadata": {},
   "source": [
    "# 5. 转换"
   ]
  },
  {
   "cell_type": "markdown",
   "id": "20a0184e-7165-4cbf-94ca-bc168a990011",
   "metadata": {},
   "source": [
    "## 列转换成指定的type:astype()"
   ]
  },
  {
   "cell_type": "code",
   "execution_count": null,
   "id": "53b78f35-4019-45e0-bbe6-b5ba47713baf",
   "metadata": {},
   "outputs": [],
   "source": [
    "valid_zips = valid_zips[\"zip_codes\"].astype(str)"
   ]
  },
  {
   "cell_type": "markdown",
   "id": "25b7197d-36ca-4ce5-958f-b35cda4e2f7a",
   "metadata": {},
   "source": [
    "## 转换成datetime:pd.to_datetime()"
   ]
  },
  {
   "cell_type": "markdown",
   "id": "5994bd90-e888-4824-96a8-8366497c4b01",
   "metadata": {},
   "source": [
    "https://pandas.pydata.org/docs/reference/api/pandas.to_datetime.html#pandas-to-datetime"
   ]
  },
  {
   "cell_type": "code",
   "execution_count": null,
   "id": "7e59e150-5062-4f4a-833d-1e961f324bc7",
   "metadata": {},
   "outputs": [],
   "source": [
    "ins['timestamp'] = pd.to_datetime(\"03-29-2003 12:23:39 AM\", format='%m/%d/%Y %I:%M:%S %p')"
   ]
  },
  {
   "cell_type": "markdown",
   "id": "ef0e5555-2afb-46a5-8ee7-472a0b83db5e",
   "metadata": {},
   "source": [
    "这里的 `format` 参数解释如下：\n",
    "- `%m` 表示月份（01 到 12）\n",
    "- `%d` 表示日期（01 到 31）\n",
    "- `%Y` 表示四位数的年份\n",
    "- `%I` 表示12小时制的小时数（01 到 12）\n",
    "- `%M` 表示分钟（00 到 59）\n",
    "- `%S` 表示秒（00 到 59）\n",
    "- `%p` 表示AM/PM指示器\n",
    "\n",
    "使用这个格式字符串，`pd.to_datetime` 函数将能够正确解析您的日期时间列。如果您的列中包含多种不同的日期时间格式，您可能需要额外的逻辑来处理这些情况。\n"
   ]
  },
  {
   "cell_type": "markdown",
   "id": "3e94d211-b40f-4dc7-a249-7052903366dc",
   "metadata": {
    "jp-MarkdownHeadingCollapsed": true
   },
   "source": [
    "# 6. 筛选"
   ]
  },
  {
   "cell_type": "markdown",
   "id": "15b17b97-5212-496b-a706-65e5d51ab6d1",
   "metadata": {},
   "source": [
    "## .isin 筛选出存在这个列表里的"
   ]
  },
  {
   "cell_type": "code",
   "execution_count": null,
   "id": "2c57493f-11a3-4fc6-ae5d-b9047fd4e537",
   "metadata": {},
   "outputs": [],
   "source": [
    "bus.loc[~bus['postal5'].isin(valid_zips), 'postal5'] = None"
   ]
  },
  {
   "cell_type": "markdown",
   "id": "253d433e-5660-4cda-a766-c413bafd22fc",
   "metadata": {},
   "source": [
    "## 对datetime格式的数据筛选出特定年份/月份/日等"
   ]
  },
  {
   "cell_type": "markdown",
   "id": "95a57be7-7f07-4e9a-9d80-7a213d446654",
   "metadata": {},
   "source": [
    "在Pandas中，`Series.dt` 属性是一个访问器，它提供了对 datetime-like（类似日期时间）数据的丰富操作。当您的 Pandas `Series` 对象包含日期时间数据时，您可以使用 `.dt` 来执行各种与日期时间相关的操作。\n",
    "\n",
    "`pandas.Series.dt.year` 是 `.dt` 访问器的一个属性，它用于提取 `Series` 中每个 datetime 值的年份部分。这将返回一个新的 `Series`，其中包含原始 datetime 对应的年份。\n",
    "\n",
    "以下是使用 `pandas.Series.dt.year` 的一些示例：\n",
    "\n",
    "1. **提取年份**：\n",
    "   如果您有一个包含日期时间的 `Series`，您可以使用 `.dt.year` 来提取年份。\n",
    "\n",
    "   ```python\n",
    "   import pandas as pd\n",
    "\n",
    "   # 创建一个包含日期时间的 Series\n",
    "   dates = pd.Series([\"2021-01-01\", \"2022-06-15\", \"2023-12-31\"])\n",
    "   # 确保 Series 是 datetime 类型\n",
    "   dates = pd.to_datetime(dates)\n",
    "\n",
    "   # 提取年份\n",
    "   years = dates.dt.year\n",
    "   print(years)\n",
    "   ```\n",
    "\n",
    "   输出将是：\n",
    "   ```\n",
    "   0    2021\n",
    "   1    2022\n",
    "   2    2023\n",
    "   dtype: int64\n",
    "   ```\n",
    "\n",
    "2. **基于年份的筛选**：\n",
    "   您可以使用提取的年份来筛选数据。\n",
    "\n",
    "   ```python\n",
    "   # 筛选出2022年的记录\n",
    "   filtered_dates = dates[dates.dt.year == 2022]\n",
    "   print(filtered_dates)\n",
    "   ```\n",
    "\n",
    "3. **与其他日期时间属性结合使用**：\n",
    "   `.dt` 访问器提供了许多其他属性，如 `.month`, `.day`, `.hour`, `.minute` 等，您可以结合使用它们来执行更复杂的日期时间操作。\n",
    "\n",
    "   ```python\n",
    "   # 提取月份和日期\n",
    "   months = dates.dt.month\n",
    "   days = dates.dt.day\n",
    "   ```\n",
    "\n",
    "使用 `.dt` 访问器是处理日期时间数据的一种非常强大和方便的方式，它允许您快速访问和操作日期时间的组成部分。\n"
   ]
  },
  {
   "cell_type": "code",
   "execution_count": null,
   "id": "b57a0b52-3e5f-4837-b323-a50bfc2eda40",
   "metadata": {},
   "outputs": [],
   "source": []
  },
  {
   "cell_type": "markdown",
   "id": "9f9de5cc-b425-4f56-af45-d95f9ad55798",
   "metadata": {},
   "source": [
    "# 7.判断"
   ]
  },
  {
   "cell_type": "markdown",
   "id": "2113145a-c88c-4513-ad5a-ba2b98cf0e6e",
   "metadata": {},
   "source": [
    "## .all(), 判断 pandas 对象中的所有元素是否都满足某个条件"
   ]
  },
  {
   "cell_type": "markdown",
   "id": "1de6d3d0-1ad2-4e25-bcfd-61d4c0a643ea",
   "metadata": {},
   "source": [
    "### 判断一个列是不是都是True"
   ]
  },
  {
   "cell_type": "code",
   "execution_count": null,
   "id": "9ea639d4-8f4d-4ee5-ae09-157966c64de4",
   "metadata": {},
   "outputs": [],
   "source": [
    "s = pd.Series([True, True, True])\n",
    "all_true = s.all()\n",
    "print(all_true)  # 输出: True"
   ]
  },
  {
   "cell_type": "markdown",
   "id": "318fd920-703d-4e3e-a4f2-e8b435dc25e0",
   "metadata": {},
   "source": [
    "# 8. pivot_table"
   ]
  },
  {
   "cell_type": "markdown",
   "id": "44203032-b6c8-4528-afa7-1ac040bfa905",
   "metadata": {},
   "source": [
    "## 基本用法\n",
    "pivot_table 函数的作用是创建一个透视表，它类似于 Excel 中的数据透视表。你可以用它来对数据进行汇总、计算和转换，使数据更具可读性。"
   ]
  },
  {
   "cell_type": "code",
   "execution_count": 2,
   "id": "bad69515-d444-4624-b37c-acb98d0a8d8e",
   "metadata": {},
   "outputs": [
    {
     "ename": "NameError",
     "evalue": "name 'pandas' is not defined",
     "output_type": "error",
     "traceback": [
      "\u001b[1;31m---------------------------------------------------------------------------\u001b[0m",
      "\u001b[1;31mNameError\u001b[0m                                 Traceback (most recent call last)",
      "Cell \u001b[1;32mIn[2], line 1\u001b[0m\n\u001b[1;32m----> 1\u001b[0m \u001b[43mpandas\u001b[49m\u001b[38;5;241m.\u001b[39mpivot_table(\n\u001b[0;32m      2\u001b[0m     data, \n\u001b[0;32m      3\u001b[0m     values\u001b[38;5;241m=\u001b[39m\u001b[38;5;28;01mNone\u001b[39;00m, \n\u001b[0;32m      4\u001b[0m     index\u001b[38;5;241m=\u001b[39m\u001b[38;5;28;01mNone\u001b[39;00m, \n\u001b[0;32m      5\u001b[0m     columns\u001b[38;5;241m=\u001b[39m\u001b[38;5;28;01mNone\u001b[39;00m, \n\u001b[0;32m      6\u001b[0m     aggfunc\u001b[38;5;241m=\u001b[39m\u001b[38;5;124m'\u001b[39m\u001b[38;5;124mmean\u001b[39m\u001b[38;5;124m'\u001b[39m, \n\u001b[0;32m      7\u001b[0m     fill_value\u001b[38;5;241m=\u001b[39m\u001b[38;5;28;01mNone\u001b[39;00m, \n\u001b[0;32m      8\u001b[0m     dropna\u001b[38;5;241m=\u001b[39m\u001b[38;5;28;01mTrue\u001b[39;00m, \n\u001b[0;32m      9\u001b[0m     margins\u001b[38;5;241m=\u001b[39m\u001b[38;5;28;01mFalse\u001b[39;00m, \n\u001b[0;32m     10\u001b[0m     margins_name\u001b[38;5;241m=\u001b[39m\u001b[38;5;124m'\u001b[39m\u001b[38;5;124mAll\u001b[39m\u001b[38;5;124m'\u001b[39m, \n\u001b[0;32m     11\u001b[0m     sort\u001b[38;5;241m=\u001b[39m\u001b[38;5;28;01mTrue\u001b[39;00m\n\u001b[0;32m     12\u001b[0m )\n",
      "\u001b[1;31mNameError\u001b[0m: name 'pandas' is not defined"
     ]
    }
   ],
   "source": [
    "pandas.pivot_table(\n",
    "    data, \n",
    "    values=None, \n",
    "    index=None, \n",
    "    columns=None, \n",
    "    aggfunc='mean', \n",
    "    fill_value=None, \n",
    "    dropna=True, \n",
    "    margins=False, \n",
    "    margins_name='All', \n",
    "    sort=True\n",
    ")"
   ]
  },
  {
   "cell_type": "code",
   "execution_count": null,
   "id": "3f6b32f5-0cc2-47e8-aa13-fae5861fb770",
   "metadata": {},
   "outputs": [],
   "source": []
  },
  {
   "cell_type": "code",
   "execution_count": null,
   "id": "550e0122-dcb2-4b26-941f-c7fa447c19a1",
   "metadata": {},
   "outputs": [],
   "source": []
  },
  {
   "cell_type": "markdown",
   "id": "19f5f8d2-7358-4e12-aa8b-b1724185fd87",
   "metadata": {},
   "source": [
    "## size和sum"
   ]
  },
  {
   "cell_type": "markdown",
   "id": "f0802c53-1a06-4abd-88dc-5ab390ff11b8",
   "metadata": {},
   "source": [
    "在Pandas中，`size` 和 `sum` 是两种不同的聚合函数，它们在 `pivot_table` 或其他聚合操作中使用时有不同的行为：\n",
    "\n",
    "1. **`size`**：\n",
    "   - `size` 函数返回非NA/null值的数量。\n",
    "   - 它通常用于计数，特别是在需要统计每个组中元素数量的场景中。\n",
    "   - `size` 函数的结果是一个整数，表示每个组中的元素数。\n",
    "   - 使用 `size` 进行聚合时，不会影响数据的类型（例如，不会将布尔值转换为整数）。\n",
    "\n",
    "2. **`sum`**：\n",
    "   - `sum` 函数返回数值的总和。\n",
    "   - 它通常用于数值数据的求和，但也可以用来计算布尔值的“真”数量（因为 `True` 被当作 1，`False` 被当作 0）。\n",
    "   - `sum` 函数的结果是一个数值，表示所有数值的总和。\n",
    "   - 使用 `sum` 进行聚合时，结果的类型取决于输入数据的类型。\n",
    "\n",
    "**区别**：\n",
    "- 当使用 `size` 时，它只计算非空（NA/null）值的数量。这意味着如果一个组中所有值都是NA/null，`size` 的结果将是0。\n",
    "- 当使用 `sum` 时，它会计算所有值的总和，包括布尔值（`True` 为 1，`False` 为 0）。如果一个组中所有值都是NA/null，`sum` 的结果将是NA/null。\n",
    "\n",
    "**使用场景**：\n",
    "- 如果你想统计每个组中的元素数量，使用 `size`。\n",
    "- 如果你想计算数值的总和或布尔值的“真”数量，使用 `sum`。\n",
    "\n",
    "例如，考虑以下数据：\n",
    "\n",
    "```python\n",
    "import pandas as pd\n",
    "\n",
    "df = pd.DataFrame({\n",
    "    'A': [1, 2, None, 4],\n",
    "    'B': [True, False, True, None],\n",
    "    'C': ['x', 'y', None, 'z']\n",
    "})\n",
    "```\n",
    "\n",
    "使用 `size` 和 `sum` 的结果如下：\n",
    "\n",
    "```python\n",
    "size_result = df.apply(pd.Series.nunique)\n",
    "print(size_result)\n",
    "# A    3\n",
    "# B    2\n",
    "# C    2\n",
    "# dtype: int64\n",
    "\n",
    "sum_result = df.apply(sum, axis=0)\n",
    "print(sum_result)\n",
    "# A    7.0\n",
    "# B    1.0\n",
    "# C    NaN\n",
    "```\n",
    "\n",
    "在这个例子中：\n",
    "- `size` 计算了每列非空值的数量。\n",
    "- `sum` 计算了每列的数值总和，对于布尔值 `True` 和 `False` 分别计算为 1 和 0，但对于非数值列（如 'C'），结果为 NaN。\n"
   ]
  },
  {
   "cell_type": "code",
   "execution_count": null,
   "id": "f77b1776-46b5-4487-bc87-7ee372cdcabd",
   "metadata": {},
   "outputs": [],
   "source": []
  },
  {
   "cell_type": "code",
   "execution_count": null,
   "id": "00ad6454-2b66-4992-af68-87379256bdc3",
   "metadata": {},
   "outputs": [],
   "source": []
  },
  {
   "cell_type": "code",
   "execution_count": null,
   "id": "f8504a7b-0f23-480b-a212-5aef03938649",
   "metadata": {},
   "outputs": [],
   "source": []
  },
  {
   "cell_type": "code",
   "execution_count": null,
   "id": "684ce3d1-7767-4f71-b47f-a5f416913f79",
   "metadata": {},
   "outputs": [],
   "source": []
  },
  {
   "cell_type": "code",
   "execution_count": null,
   "id": "a9fc4f22-5254-45e1-9688-b3a82a50ea0d",
   "metadata": {},
   "outputs": [],
   "source": []
  }
 ],
 "metadata": {
  "kernelspec": {
   "display_name": "Python 3 (ipykernel)",
   "language": "python",
   "name": "python3"
  },
  "language_info": {
   "codemirror_mode": {
    "name": "ipython",
    "version": 3
   },
   "file_extension": ".py",
   "mimetype": "text/x-python",
   "name": "python",
   "nbconvert_exporter": "python",
   "pygments_lexer": "ipython3",
   "version": "3.10.10"
  }
 },
 "nbformat": 4,
 "nbformat_minor": 5
}

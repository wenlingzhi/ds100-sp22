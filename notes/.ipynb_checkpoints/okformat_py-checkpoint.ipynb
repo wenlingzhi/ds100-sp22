{
 "cells": [
  {
   "cell_type": "code",
   "execution_count": null,
   "id": "a33c3c17-f64d-4e69-b87c-0b5e29b3f180",
   "metadata": {},
   "outputs": [],
   "source": []
  },
  {
   "cell_type": "code",
   "execution_count": 2,
   "id": "f009b637-2491-4784-b68d-310f33bd6677",
   "metadata": {},
   "outputs": [],
   "source": [
    "import os\n",
    "\n",
    "def check_and_update_py_files(folder_path):\n",
    "    # 遍历文件夹中的所有文件\n",
    "    for filename in os.listdir(folder_path):\n",
    "        if filename.endswith(\".py\"):  # 确保处理的是Python文件\n",
    "            file_path = os.path.join(folder_path, filename)\n",
    "            \n",
    "            # 读取文件内容\n",
    "            with open(file_path, 'r', encoding='utf-8') as file:\n",
    "                lines = file.readlines()\n",
    "            \n",
    "            # 检查第一行是否包含\"OK_FORMAT = True\"\n",
    "            if not lines or not lines[0].strip().startswith(\"OK_FORMAT = True\"):\n",
    "                # 如果第一行不是\"OK_FORMAT = True\"，则添加这一行\n",
    "                with open(file_path, 'w', encoding='utf-8') as file:\n",
    "                    file.write(\"OK_FORMAT = True\\n\")  # 写入\"OK_FORMAT = True\"\n",
    "                    file.writelines(lines)  # 写入原文件内容\n",
    "            print(\"修改完成!\")"
   ]
  },
  {
   "cell_type": "code",
   "execution_count": 4,
   "id": "af059088-c0a9-43eb-b39a-784601ad7d67",
   "metadata": {},
   "outputs": [
    {
     "name": "stdout",
     "output_type": "stream",
     "text": [
      "修改完成!\n",
      "修改完成!\n",
      "修改完成!\n",
      "修改完成!\n",
      "修改完成!\n",
      "修改完成!\n",
      "修改完成!\n",
      "修改完成!\n",
      "修改完成!\n",
      "修改完成!\n",
      "修改完成!\n",
      "修改完成!\n",
      "修改完成!\n",
      "修改完成!\n",
      "修改完成!\n",
      "修改完成!\n",
      "修改完成!\n",
      "修改完成!\n",
      "修改完成!\n",
      "修改完成!\n"
     ]
    }
   ],
   "source": [
    "check_and_update_py_files(\"hw/hw02/tests\")"
   ]
  },
  {
   "cell_type": "code",
   "execution_count": null,
   "id": "a2b97397-6aed-4f74-a58a-7164a9508f9a",
   "metadata": {},
   "outputs": [],
   "source": []
  }
 ],
 "metadata": {
  "kernelspec": {
   "display_name": "Python 3 (ipykernel)",
   "language": "python",
   "name": "python3"
  },
  "language_info": {
   "codemirror_mode": {
    "name": "ipython",
    "version": 3
   },
   "file_extension": ".py",
   "mimetype": "text/x-python",
   "name": "python",
   "nbconvert_exporter": "python",
   "pygments_lexer": "ipython3",
   "version": "3.10.10"
  }
 },
 "nbformat": 4,
 "nbformat_minor": 5
}
